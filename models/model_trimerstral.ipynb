{
 "cells": [
  {
   "cell_type": "code",
   "execution_count": 559,
   "metadata": {},
   "outputs": [],
   "source": [
    "import pandas as pd\n",
    "import sys\n",
    "sys.path.insert(1, r'C:\\Users\\adars\\OneDrive\\Escritorio\\Uni\\datathon\\healthcare_challenge')\n",
    "from utils import *\n",
    "import pickle\n",
    "# catboosting\n",
    "from catboost import CatBoostRegressor\n",
    "from sklearn.metrics import mean_squared_error, mean_absolute_error\n",
    "import xgboost as xgb"
   ]
  },
  {
   "cell_type": "code",
   "execution_count": 613,
   "metadata": {},
   "outputs": [],
   "source": [
    "df = pd.read_csv('../data/consumo_material_clean_with_category.csv', parse_dates=['FECHAPEDIDO'])\n",
    "# df_train = pd.read_csv('../data/consumo_no23.csv')\n",
    "# df_test = pd.read_csv('../data/consumo_23.csv')\n",
    "\n",
    "df_transito = df[df['TGL'] == 'TRANSITO']\n",
    "df_alma = df[df['TGL'] == 'ALMACENABLE']\n",
    "\n",
    "specified_ids = ['E65159', 'E64751', 'E64764']\n",
    "df_specified_ids = df_alma[df_alma['CODIGO'].isin(specified_ids)]\n",
    "df_other_ids = df_alma[~df_alma['CODIGO'].isin(specified_ids)]\n",
    "df_other_ids_gt_10 = df_other_ids[df_other_ids['UNIDADESCONSUMOCONTENIDAS'] > 10]\n",
    "df_other_ids_eq_10 = df_other_ids[df_other_ids['UNIDADESCONSUMOCONTENIDAS'] == 10]\n",
    "df_other_ids_lt_10 = df_other_ids[df_other_ids['UNIDADESCONSUMOCONTENIDAS'] < 10]"
   ]
  },
  {
   "cell_type": "code",
   "execution_count": null,
   "metadata": {},
   "outputs": [],
   "source": [
    "df_other_ids[df_other_ids['STACKS_COMPRATS'] > 100]['UNIDADESCONSUMOCONTENIDAS'].unique()"
   ]
  },
  {
   "cell_type": "code",
   "execution_count": null,
   "metadata": {},
   "outputs": [],
   "source": [
    "df_other_ids[df_other_ids['STACKS_COMPRATS'] < 100]['UNIDADESCONSUMOCONTENIDAS'].unique()"
   ]
  },
  {
   "cell_type": "code",
   "execution_count": 614,
   "metadata": {},
   "outputs": [
    {
     "name": "stdout",
     "output_type": "stream",
     "text": [
      "asjfkjdsfljds\n"
     ]
    },
    {
     "name": "stderr",
     "output_type": "stream",
     "text": [
      "C:\\Users\\adars\\OneDrive\\Escritorio\\Uni\\datathon\\healthcare_challenge\\utils.py:8: SettingWithCopyWarning: \n",
      "A value is trying to be set on a copy of a slice from a DataFrame.\n",
      "Try using .loc[row_indexer,col_indexer] = value instead\n",
      "\n",
      "See the caveats in the documentation: https://pandas.pydata.org/pandas-docs/stable/user_guide/indexing.html#returning-a-view-versus-a-copy\n",
      "  data['STACKS_COMPRATS'] = data['CANTIDADCOMPRA']/data['UNIDADESCONSUMOCONTENIDAS']\n",
      "C:\\Users\\adars\\OneDrive\\Escritorio\\Uni\\datathon\\healthcare_challenge\\utils.py:9: SettingWithCopyWarning: \n",
      "A value is trying to be set on a copy of a slice from a DataFrame.\n",
      "Try using .loc[row_indexer,col_indexer] = value instead\n",
      "\n",
      "See the caveats in the documentation: https://pandas.pydata.org/pandas-docs/stable/user_guide/indexing.html#returning-a-view-versus-a-copy\n",
      "  data['STACKS_COMPRATS'] = data['STACKS_COMPRATS'].apply(lambda x: int(x))\n",
      "C:\\Users\\adars\\OneDrive\\Escritorio\\Uni\\datathon\\healthcare_challenge\\utils.py:12: SettingWithCopyWarning: \n",
      "A value is trying to be set on a copy of a slice from a DataFrame.\n",
      "Try using .loc[row_indexer,col_indexer] = value instead\n",
      "\n",
      "See the caveats in the documentation: https://pandas.pydata.org/pandas-docs/stable/user_guide/indexing.html#returning-a-view-versus-a-copy\n",
      "  data['REGION'], data['HOSPITAL'], data['DEPARTMENT'] = separated_origin[0], separated_origin[1], separated_origin[2]\n",
      "C:\\Users\\adars\\OneDrive\\Escritorio\\Uni\\datathon\\healthcare_challenge\\utils.py:12: SettingWithCopyWarning: \n",
      "A value is trying to be set on a copy of a slice from a DataFrame.\n",
      "Try using .loc[row_indexer,col_indexer] = value instead\n",
      "\n",
      "See the caveats in the documentation: https://pandas.pydata.org/pandas-docs/stable/user_guide/indexing.html#returning-a-view-versus-a-copy\n",
      "  data['REGION'], data['HOSPITAL'], data['DEPARTMENT'] = separated_origin[0], separated_origin[1], separated_origin[2]\n",
      "C:\\Users\\adars\\OneDrive\\Escritorio\\Uni\\datathon\\healthcare_challenge\\utils.py:12: SettingWithCopyWarning: \n",
      "A value is trying to be set on a copy of a slice from a DataFrame.\n",
      "Try using .loc[row_indexer,col_indexer] = value instead\n",
      "\n",
      "See the caveats in the documentation: https://pandas.pydata.org/pandas-docs/stable/user_guide/indexing.html#returning-a-view-versus-a-copy\n",
      "  data['REGION'], data['HOSPITAL'], data['DEPARTMENT'] = separated_origin[0], separated_origin[1], separated_origin[2]\n",
      "C:\\Users\\adars\\OneDrive\\Escritorio\\Uni\\datathon\\healthcare_challenge\\utils.py:14: SettingWithCopyWarning: \n",
      "A value is trying to be set on a copy of a slice from a DataFrame\n",
      "\n",
      "See the caveats in the documentation: https://pandas.pydata.org/pandas-docs/stable/user_guide/indexing.html#returning-a-view-versus-a-copy\n",
      "  data.drop(['PRODUCTO', 'NUMERO','ORIGEN','CANTIDADCOMPRA','IMPORTELINEA', 'REFERENCIA', 'REGION', 'HOSPITAL','DEPARTMENT', 'CATEGORY'], axis = 1, inplace = True)\n"
     ]
    },
    {
     "data": {
      "text/html": [
       "<div>\n",
       "<style scoped>\n",
       "    .dataframe tbody tr th:only-of-type {\n",
       "        vertical-align: middle;\n",
       "    }\n",
       "\n",
       "    .dataframe tbody tr th {\n",
       "        vertical-align: top;\n",
       "    }\n",
       "\n",
       "    .dataframe thead th {\n",
       "        text-align: right;\n",
       "    }\n",
       "</style>\n",
       "<table border=\"1\" class=\"dataframe\">\n",
       "  <thead>\n",
       "    <tr style=\"text-align: right;\">\n",
       "      <th></th>\n",
       "      <th>FECHAPEDIDO</th>\n",
       "      <th>UNIDADESCONSUMOCONTENIDAS</th>\n",
       "      <th>PRECIO</th>\n",
       "      <th>STACKS_COMPRATS</th>\n",
       "      <th>CODIGO_E64663</th>\n",
       "      <th>CODIGO_E64932</th>\n",
       "      <th>CODIGO_E65056</th>\n",
       "      <th>CODIGO_E65485</th>\n",
       "      <th>CODIGO_E70130</th>\n",
       "      <th>TIPOCOMPRA_Compra menor</th>\n",
       "      <th>TIPOCOMPRA_Concurso</th>\n",
       "    </tr>\n",
       "  </thead>\n",
       "  <tbody>\n",
       "    <tr>\n",
       "      <th>11</th>\n",
       "      <td>2018-01-02</td>\n",
       "      <td>3</td>\n",
       "      <td>1.851300</td>\n",
       "      <td>294</td>\n",
       "      <td>0</td>\n",
       "      <td>0</td>\n",
       "      <td>1</td>\n",
       "      <td>0</td>\n",
       "      <td>0</td>\n",
       "      <td>1</td>\n",
       "      <td>0</td>\n",
       "    </tr>\n",
       "    <tr>\n",
       "      <th>18</th>\n",
       "      <td>2021-01-02</td>\n",
       "      <td>5</td>\n",
       "      <td>26.399925</td>\n",
       "      <td>13</td>\n",
       "      <td>1</td>\n",
       "      <td>0</td>\n",
       "      <td>0</td>\n",
       "      <td>0</td>\n",
       "      <td>0</td>\n",
       "      <td>0</td>\n",
       "      <td>1</td>\n",
       "    </tr>\n",
       "    <tr>\n",
       "      <th>39</th>\n",
       "      <td>2023-01-02</td>\n",
       "      <td>3</td>\n",
       "      <td>0.989571</td>\n",
       "      <td>91</td>\n",
       "      <td>0</td>\n",
       "      <td>0</td>\n",
       "      <td>1</td>\n",
       "      <td>0</td>\n",
       "      <td>0</td>\n",
       "      <td>0</td>\n",
       "      <td>1</td>\n",
       "    </tr>\n",
       "    <tr>\n",
       "      <th>50</th>\n",
       "      <td>2016-01-03</td>\n",
       "      <td>5</td>\n",
       "      <td>29.150000</td>\n",
       "      <td>50</td>\n",
       "      <td>1</td>\n",
       "      <td>0</td>\n",
       "      <td>0</td>\n",
       "      <td>0</td>\n",
       "      <td>0</td>\n",
       "      <td>1</td>\n",
       "      <td>0</td>\n",
       "    </tr>\n",
       "    <tr>\n",
       "      <th>53</th>\n",
       "      <td>2016-01-03</td>\n",
       "      <td>3</td>\n",
       "      <td>1.851300</td>\n",
       "      <td>300</td>\n",
       "      <td>0</td>\n",
       "      <td>0</td>\n",
       "      <td>1</td>\n",
       "      <td>0</td>\n",
       "      <td>0</td>\n",
       "      <td>1</td>\n",
       "      <td>0</td>\n",
       "    </tr>\n",
       "  </tbody>\n",
       "</table>\n",
       "</div>"
      ],
      "text/plain": [
       "   FECHAPEDIDO  UNIDADESCONSUMOCONTENIDAS     PRECIO  STACKS_COMPRATS  \\\n",
       "11  2018-01-02                          3   1.851300              294   \n",
       "18  2021-01-02                          5  26.399925               13   \n",
       "39  2023-01-02                          3   0.989571               91   \n",
       "50  2016-01-03                          5  29.150000               50   \n",
       "53  2016-01-03                          3   1.851300              300   \n",
       "\n",
       "    CODIGO_E64663  CODIGO_E64932  CODIGO_E65056  CODIGO_E65485  CODIGO_E70130  \\\n",
       "11              0              0              1              0              0   \n",
       "18              1              0              0              0              0   \n",
       "39              0              0              1              0              0   \n",
       "50              1              0              0              0              0   \n",
       "53              0              0              1              0              0   \n",
       "\n",
       "    TIPOCOMPRA_Compra menor  TIPOCOMPRA_Concurso  \n",
       "11                        1                    0  \n",
       "18                        0                    1  \n",
       "39                        0                    1  \n",
       "50                        1                    0  \n",
       "53                        1                    0  "
      ]
     },
     "execution_count": 614,
     "metadata": {},
     "output_type": "execute_result"
    }
   ],
   "source": [
    "df = preprocess_cosumo(df_other_ids_lt_10)\n",
    "df.head()"
   ]
  },
  {
   "cell_type": "code",
   "execution_count": 615,
   "metadata": {},
   "outputs": [],
   "source": [
    "df['trimester'] = df['FECHAPEDIDO'].dt.quarter\n",
    "#df['month'] = df['FECHAPEDIDO'].dt.month"
   ]
  },
  {
   "cell_type": "code",
   "execution_count": 616,
   "metadata": {},
   "outputs": [],
   "source": [
    "grouped_df = df.groupby(['trimester', df['FECHAPEDIDO'].dt.year])"
   ]
  },
  {
   "cell_type": "code",
   "execution_count": 617,
   "metadata": {},
   "outputs": [
    {
     "data": {
      "text/plain": [
       "36"
      ]
     },
     "execution_count": 617,
     "metadata": {},
     "output_type": "execute_result"
    }
   ],
   "source": [
    "len(grouped_df)"
   ]
  },
  {
   "cell_type": "code",
   "execution_count": 648,
   "metadata": {},
   "outputs": [],
   "source": [
    "trimester_dfs = [grouped_df.get_group((trimester, year)).reset_index(drop=True) for (trimester, year), _ in grouped_df]\n",
    "dfs_chunked = [trimester_dfs[i:i + 9] for i in range(0, len(trimester_dfs), 9)]\n",
    "result_dfs = []\n",
    "for chunk in dfs_chunked:\n",
    "    result_dfs.append(pd.concat(chunk, axis=0, ignore_index=True))"
   ]
  },
  {
   "cell_type": "code",
   "execution_count": 649,
   "metadata": {},
   "outputs": [
    {
     "data": {
      "text/plain": [
       "4"
      ]
     },
     "execution_count": 649,
     "metadata": {},
     "output_type": "execute_result"
    }
   ],
   "source": [
    "len(result_dfs)"
   ]
  },
  {
   "cell_type": "code",
   "execution_count": 651,
   "metadata": {},
   "outputs": [],
   "source": [
    "target = result_dfs[3]"
   ]
  },
  {
   "cell_type": "code",
   "execution_count": 652,
   "metadata": {},
   "outputs": [
    {
     "data": {
      "text/html": [
       "<div>\n",
       "<style scoped>\n",
       "    .dataframe tbody tr th:only-of-type {\n",
       "        vertical-align: middle;\n",
       "    }\n",
       "\n",
       "    .dataframe tbody tr th {\n",
       "        vertical-align: top;\n",
       "    }\n",
       "\n",
       "    .dataframe thead th {\n",
       "        text-align: right;\n",
       "    }\n",
       "</style>\n",
       "<table border=\"1\" class=\"dataframe\">\n",
       "  <thead>\n",
       "    <tr style=\"text-align: right;\">\n",
       "      <th></th>\n",
       "      <th>FECHAPEDIDO</th>\n",
       "      <th>UNIDADESCONSUMOCONTENIDAS</th>\n",
       "      <th>PRECIO</th>\n",
       "      <th>STACKS_COMPRATS</th>\n",
       "      <th>CODIGO_E64663</th>\n",
       "      <th>CODIGO_E64932</th>\n",
       "      <th>CODIGO_E65056</th>\n",
       "      <th>CODIGO_E65485</th>\n",
       "      <th>CODIGO_E70130</th>\n",
       "      <th>TIPOCOMPRA_Compra menor</th>\n",
       "      <th>TIPOCOMPRA_Concurso</th>\n",
       "    </tr>\n",
       "  </thead>\n",
       "  <tbody>\n",
       "    <tr>\n",
       "      <th>0</th>\n",
       "      <td>2015-10-02</td>\n",
       "      <td>5</td>\n",
       "      <td>8.250039</td>\n",
       "      <td>75</td>\n",
       "      <td>0</td>\n",
       "      <td>0</td>\n",
       "      <td>0</td>\n",
       "      <td>1</td>\n",
       "      <td>0</td>\n",
       "      <td>1</td>\n",
       "      <td>0</td>\n",
       "    </tr>\n",
       "    <tr>\n",
       "      <th>1</th>\n",
       "      <td>2015-10-03</td>\n",
       "      <td>5</td>\n",
       "      <td>5.245370</td>\n",
       "      <td>51</td>\n",
       "      <td>0</td>\n",
       "      <td>1</td>\n",
       "      <td>0</td>\n",
       "      <td>0</td>\n",
       "      <td>0</td>\n",
       "      <td>1</td>\n",
       "      <td>0</td>\n",
       "    </tr>\n",
       "    <tr>\n",
       "      <th>2</th>\n",
       "      <td>2015-10-09</td>\n",
       "      <td>5</td>\n",
       "      <td>5.245370</td>\n",
       "      <td>7</td>\n",
       "      <td>0</td>\n",
       "      <td>1</td>\n",
       "      <td>0</td>\n",
       "      <td>0</td>\n",
       "      <td>0</td>\n",
       "      <td>1</td>\n",
       "      <td>0</td>\n",
       "    </tr>\n",
       "    <tr>\n",
       "      <th>3</th>\n",
       "      <td>2015-10-09</td>\n",
       "      <td>5</td>\n",
       "      <td>14.850000</td>\n",
       "      <td>13</td>\n",
       "      <td>0</td>\n",
       "      <td>0</td>\n",
       "      <td>0</td>\n",
       "      <td>0</td>\n",
       "      <td>1</td>\n",
       "      <td>1</td>\n",
       "      <td>0</td>\n",
       "    </tr>\n",
       "    <tr>\n",
       "      <th>4</th>\n",
       "      <td>2015-10-09</td>\n",
       "      <td>5</td>\n",
       "      <td>14.850000</td>\n",
       "      <td>10</td>\n",
       "      <td>0</td>\n",
       "      <td>0</td>\n",
       "      <td>0</td>\n",
       "      <td>0</td>\n",
       "      <td>1</td>\n",
       "      <td>1</td>\n",
       "      <td>0</td>\n",
       "    </tr>\n",
       "  </tbody>\n",
       "</table>\n",
       "</div>"
      ],
      "text/plain": [
       "  FECHAPEDIDO  UNIDADESCONSUMOCONTENIDAS     PRECIO  STACKS_COMPRATS  \\\n",
       "0  2015-10-02                          5   8.250039               75   \n",
       "1  2015-10-03                          5   5.245370               51   \n",
       "2  2015-10-09                          5   5.245370                7   \n",
       "3  2015-10-09                          5  14.850000               13   \n",
       "4  2015-10-09                          5  14.850000               10   \n",
       "\n",
       "   CODIGO_E64663  CODIGO_E64932  CODIGO_E65056  CODIGO_E65485  CODIGO_E70130  \\\n",
       "0              0              0              0              1              0   \n",
       "1              0              1              0              0              0   \n",
       "2              0              1              0              0              0   \n",
       "3              0              0              0              0              1   \n",
       "4              0              0              0              0              1   \n",
       "\n",
       "   TIPOCOMPRA_Compra menor  TIPOCOMPRA_Concurso  \n",
       "0                        1                    0  \n",
       "1                        1                    0  \n",
       "2                        1                    0  \n",
       "3                        1                    0  \n",
       "4                        1                    0  "
      ]
     },
     "execution_count": 652,
     "metadata": {},
     "output_type": "execute_result"
    }
   ],
   "source": [
    "target.drop(['trimester'], axis = 1, inplace = True)\n",
    "target.head()"
   ]
  },
  {
   "cell_type": "code",
   "execution_count": 653,
   "metadata": {},
   "outputs": [
    {
     "name": "stderr",
     "output_type": "stream",
     "text": [
      "C:\\Users\\adars\\AppData\\Local\\Temp\\ipykernel_14272\\1363158763.py:5: SettingWithCopyWarning: \n",
      "A value is trying to be set on a copy of a slice from a DataFrame\n",
      "\n",
      "See the caveats in the documentation: https://pandas.pydata.org/pandas-docs/stable/user_guide/indexing.html#returning-a-view-versus-a-copy\n",
      "  df_train.drop(columns=['FECHAPEDIDO'], inplace=True)\n",
      "C:\\Users\\adars\\AppData\\Local\\Temp\\ipykernel_14272\\1363158763.py:6: SettingWithCopyWarning: \n",
      "A value is trying to be set on a copy of a slice from a DataFrame\n",
      "\n",
      "See the caveats in the documentation: https://pandas.pydata.org/pandas-docs/stable/user_guide/indexing.html#returning-a-view-versus-a-copy\n",
      "  df_test.drop(columns=['FECHAPEDIDO'], inplace=True)\n"
     ]
    }
   ],
   "source": [
    "df_train = target[target['FECHAPEDIDO']<dt.datetime(year=2023,month=1,day=1)]\n",
    "#df_train = df_train[df_train['FECHAPEDIDO'] >= dt.datetime(year=2021,month=1,day=1)]\n",
    "df_test = target[target['FECHAPEDIDO']>=dt.datetime(year=2023,month=1,day=1)]\n",
    "\n",
    "df_train.drop(columns=['FECHAPEDIDO'], inplace=True)\n",
    "df_test.drop(columns=['FECHAPEDIDO'], inplace=True)"
   ]
  },
  {
   "cell_type": "code",
   "execution_count": 654,
   "metadata": {},
   "outputs": [
    {
     "name": "stdout",
     "output_type": "stream",
     "text": [
      "(439, 10)\n",
      "(20, 10)\n"
     ]
    }
   ],
   "source": [
    "print(df_train.shape)\n",
    "print(df_test.shape)"
   ]
  },
  {
   "cell_type": "code",
   "execution_count": 655,
   "metadata": {},
   "outputs": [],
   "source": [
    "X = df_train.drop(['STACKS_COMPRATS'], axis = 1)\n",
    "y = df_train['STACKS_COMPRATS']\n",
    "X_test = df_test.drop(['STACKS_COMPRATS'], axis = 1)\n",
    "y_test = df_test['STACKS_COMPRATS'].reset_index(drop=True)"
   ]
  },
  {
   "cell_type": "code",
   "execution_count": 656,
   "metadata": {},
   "outputs": [
    {
     "data": {
      "text/plain": [
       "Index(['UNIDADESCONSUMOCONTENIDAS', 'PRECIO', 'CODIGO_E64663', 'CODIGO_E64932',\n",
       "       'CODIGO_E65056', 'CODIGO_E65485', 'CODIGO_E70130',\n",
       "       'TIPOCOMPRA_Compra menor', 'TIPOCOMPRA_Concurso'],\n",
       "      dtype='object')"
      ]
     },
     "execution_count": 656,
     "metadata": {},
     "output_type": "execute_result"
    }
   ],
   "source": [
    "X.columns"
   ]
  },
  {
   "cell_type": "code",
   "execution_count": 657,
   "metadata": {},
   "outputs": [
    {
     "name": "stdout",
     "output_type": "stream",
     "text": [
      "[07:07:55] WARNING: C:/buildkite-agent/builds/buildkite-windows-cpu-autoscaling-group-i-0fc7796c793e6356f-1/xgboost/xgboost-ci-windows/src/objective/regression_obj.cu:213: reg:linear is now deprecated in favor of reg:squarederror.\n",
      "[07:07:55] WARNING: C:/buildkite-agent/builds/buildkite-windows-cpu-autoscaling-group-i-0fc7796c793e6356f-1/xgboost/xgboost-ci-windows/src/learner.cc:767: \n",
      "Parameters: { \"colample_bytree\" } are not used.\n",
      "\n"
     ]
    },
    {
     "data": {
      "text/plain": [
       "XGBRegressor(alpha=100, base_score=None, booster=None, callbacks=None,\n",
       "             colample_bytree=0.2, colsample_bylevel=None, colsample_bynode=None,\n",
       "             colsample_bytree=None, early_stopping_rounds=None,\n",
       "             enable_categorical=False, eval_metric=None, feature_types=None,\n",
       "             gamma=None, gpu_id=None, grow_policy=None, importance_type=None,\n",
       "             interaction_constraints=None, learning_rate=0.1, max_bin=None,\n",
       "             max_cat_threshold=None, max_cat_to_onehot=None,\n",
       "             max_delta_step=None, max_depth=2, max_leaves=None,\n",
       "             min_child_weight=None, missing=nan, monotone_constraints=None,\n",
       "             n_estimators=1000, n_jobs=None, num_parallel_tree=None, ...)"
      ]
     },
     "execution_count": 657,
     "metadata": {},
     "output_type": "execute_result"
    }
   ],
   "source": [
    "xg_reg = xgb.XGBRegressor(objective ='reg:linear', subsample = 1, reg_lambda = 0.2, reg_alpha = 0.1, colample_bytree = 0.2, learning_rate = 0.1,\n",
    "                max_depth = 2, alpha = 100, n_estimators = 1000)\n",
    "xg_reg.fit(X, y)"
   ]
  },
  {
   "cell_type": "code",
   "execution_count": 658,
   "metadata": {},
   "outputs": [
    {
     "name": "stdout",
     "output_type": "stream",
     "text": [
      "train: 3880.8497112826103\n",
      "test: 14866.817992906184\n"
     ]
    }
   ],
   "source": [
    "# Predict the inventory units for the test and train sets using the trained CatBoostRegressor model 'gsc1'\n",
    "y_predicted_test = xg_reg.predict(X_test)\n",
    "y_predicted_train = xg_reg.predict(X)\n",
    "\n",
    "# Calculate the root mean squared error (RMSE) between the predicted and actual inventory units for the test and train sets\n",
    "# The 'squared' parameter is set to False to return the RMSE instead of the MSE\n",
    "rms_test = mean_squared_error(y_test, y_predicted_test)\n",
    "rms_train = mean_squared_error(y, y_predicted_train)\n",
    "\n",
    "# Print the RMSE values for the test and train sets\n",
    "print(f'train: {rms_train}\\ntest: {rms_test}')"
   ]
  },
  {
   "cell_type": "code",
   "execution_count": 647,
   "metadata": {},
   "outputs": [],
   "source": [
    "with open('../trained_models/xgb_other_ids_lt_10_4Q.pkl', 'wb') as file:\n",
    "    pickle.dump(xg_reg, file)"
   ]
  },
  {
   "cell_type": "code",
   "execution_count": null,
   "metadata": {},
   "outputs": [],
   "source": []
  }
 ],
 "metadata": {
  "kernelspec": {
   "display_name": "base",
   "language": "python",
   "name": "python3"
  },
  "language_info": {
   "codemirror_mode": {
    "name": "ipython",
    "version": 3
   },
   "file_extension": ".py",
   "mimetype": "text/x-python",
   "name": "python",
   "nbconvert_exporter": "python",
   "pygments_lexer": "ipython3",
   "version": "3.9.13"
  }
 },
 "nbformat": 4,
 "nbformat_minor": 2
}
