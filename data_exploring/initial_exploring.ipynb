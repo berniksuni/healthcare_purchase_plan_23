{
 "cells": [
  {
   "cell_type": "code",
   "execution_count": 28,
   "metadata": {},
   "outputs": [],
   "source": [
    "import pandas as pd\n",
    "# pandas profiling\n",
    "from ydata_profiling import ProfileReport\n",
    "import datetime as dt"
   ]
  },
  {
   "cell_type": "code",
   "execution_count": 16,
   "metadata": {},
   "outputs": [
    {
     "data": {
      "text/plain": [
       "CODIGO                               object\n",
       "FECHAPEDIDO                  datetime64[ns]\n",
       "NUMERO                               object\n",
       "REFERENCIA                           object\n",
       "CANTIDADCOMPRA                        int64\n",
       "UNIDADESCONSUMOCONTENIDAS             int64\n",
       "PRECIO                              float64\n",
       "IMPORTELINEA                        float64\n",
       "TIPOCOMPRA                           object\n",
       "ORIGEN                               object\n",
       "TGL                                  object\n",
       "PRODUCTO                             object\n",
       "dtype: object"
      ]
     },
     "execution_count": 16,
     "metadata": {},
     "output_type": "execute_result"
    }
   ],
   "source": [
    "# load data\n",
    "data = pd.read_excel('../data/consumo_material_clean.xlsx', converters={'FECHAPEDIDO':pd.to_datetime})\n",
    "data.dtypes\n"
   ]
  },
  {
   "cell_type": "code",
   "execution_count": 13,
   "metadata": {},
   "outputs": [
    {
     "data": {
      "text/html": [
       "<div>\n",
       "<style scoped>\n",
       "    .dataframe tbody tr th:only-of-type {\n",
       "        vertical-align: middle;\n",
       "    }\n",
       "\n",
       "    .dataframe tbody tr th {\n",
       "        vertical-align: top;\n",
       "    }\n",
       "\n",
       "    .dataframe thead th {\n",
       "        text-align: right;\n",
       "    }\n",
       "</style>\n",
       "<table border=\"1\" class=\"dataframe\">\n",
       "  <thead>\n",
       "    <tr style=\"text-align: right;\">\n",
       "      <th></th>\n",
       "      <th>CODIGO</th>\n",
       "      <th>FECHAPEDIDO</th>\n",
       "      <th>NUMERO</th>\n",
       "      <th>REFERENCIA</th>\n",
       "      <th>CANTIDADCOMPRA</th>\n",
       "      <th>UNIDADESCONSUMOCONTENIDAS</th>\n",
       "      <th>PRECIO</th>\n",
       "      <th>IMPORTELINEA</th>\n",
       "      <th>TIPOCOMPRA</th>\n",
       "      <th>ORIGEN</th>\n",
       "      <th>TGL</th>\n",
       "      <th>PRODUCTO</th>\n",
       "    </tr>\n",
       "  </thead>\n",
       "  <tbody>\n",
       "    <tr>\n",
       "      <th>0</th>\n",
       "      <td>E99808</td>\n",
       "      <td>2023-01-01</td>\n",
       "      <td>1595724/23</td>\n",
       "      <td>178567.1</td>\n",
       "      <td>60</td>\n",
       "      <td>10</td>\n",
       "      <td>62.590000</td>\n",
       "      <td>375.540000</td>\n",
       "      <td>Compra menor</td>\n",
       "      <td>1-2-60</td>\n",
       "      <td>TRANSITO</td>\n",
       "      <td>APOSITO DE FIBRAS DE POLIACRILATO C/PLATA-3</td>\n",
       "    </tr>\n",
       "    <tr>\n",
       "      <th>1</th>\n",
       "      <td>B41691</td>\n",
       "      <td>2016-01-02</td>\n",
       "      <td>72714/16</td>\n",
       "      <td>400403</td>\n",
       "      <td>40</td>\n",
       "      <td>10</td>\n",
       "      <td>102.803729</td>\n",
       "      <td>411.214916</td>\n",
       "      <td>Compra menor</td>\n",
       "      <td>0-10-1</td>\n",
       "      <td>ALMACENABLE</td>\n",
       "      <td>SOLUCION P/ LIMPIEZA Y DESCONTAMINACION DE HER...</td>\n",
       "    </tr>\n",
       "    <tr>\n",
       "      <th>2</th>\n",
       "      <td>E64543</td>\n",
       "      <td>2016-01-02</td>\n",
       "      <td>71961/16</td>\n",
       "      <td>403770</td>\n",
       "      <td>20</td>\n",
       "      <td>5</td>\n",
       "      <td>12.100000</td>\n",
       "      <td>48.400000</td>\n",
       "      <td>Compra menor</td>\n",
       "      <td>0-4-111</td>\n",
       "      <td>TRANSITO</td>\n",
       "      <td>APOSITO DE HIDROFIBRA  / CINTA-18</td>\n",
       "    </tr>\n",
       "    <tr>\n",
       "      <th>3</th>\n",
       "      <td>E65007</td>\n",
       "      <td>2016-01-02</td>\n",
       "      <td>72773/16</td>\n",
       "      <td>20415</td>\n",
       "      <td>100</td>\n",
       "      <td>50</td>\n",
       "      <td>215.325000</td>\n",
       "      <td>430.650000</td>\n",
       "      <td>Concurso</td>\n",
       "      <td>0-10-1</td>\n",
       "      <td>ALMACENABLE</td>\n",
       "      <td>APOSITO DE ESPUMA POLIURETANO / SACRO-11</td>\n",
       "    </tr>\n",
       "    <tr>\n",
       "      <th>4</th>\n",
       "      <td>E64911</td>\n",
       "      <td>2017-01-02</td>\n",
       "      <td>86159/17</td>\n",
       "      <td>20701</td>\n",
       "      <td>300</td>\n",
       "      <td>300</td>\n",
       "      <td>792.000000</td>\n",
       "      <td>792.000000</td>\n",
       "      <td>Concurso</td>\n",
       "      <td>0-6-1</td>\n",
       "      <td>ALMACENABLE</td>\n",
       "      <td>APOSITO C/ CARBON Y PLATA-6</td>\n",
       "    </tr>\n",
       "  </tbody>\n",
       "</table>\n",
       "</div>"
      ],
      "text/plain": [
       "   CODIGO FECHAPEDIDO      NUMERO REFERENCIA  CANTIDADCOMPRA  \\\n",
       "0  E99808  2023-01-01  1595724/23   178567.1              60   \n",
       "1  B41691  2016-01-02    72714/16     400403              40   \n",
       "2  E64543  2016-01-02    71961/16     403770              20   \n",
       "3  E65007  2016-01-02    72773/16      20415             100   \n",
       "4  E64911  2017-01-02    86159/17      20701             300   \n",
       "\n",
       "   UNIDADESCONSUMOCONTENIDAS      PRECIO  IMPORTELINEA    TIPOCOMPRA   ORIGEN  \\\n",
       "0                         10   62.590000    375.540000  Compra menor   1-2-60   \n",
       "1                         10  102.803729    411.214916  Compra menor   0-10-1   \n",
       "2                          5   12.100000     48.400000  Compra menor  0-4-111   \n",
       "3                         50  215.325000    430.650000      Concurso   0-10-1   \n",
       "4                        300  792.000000    792.000000      Concurso    0-6-1   \n",
       "\n",
       "           TGL                                           PRODUCTO  \n",
       "0     TRANSITO        APOSITO DE FIBRAS DE POLIACRILATO C/PLATA-3  \n",
       "1  ALMACENABLE  SOLUCION P/ LIMPIEZA Y DESCONTAMINACION DE HER...  \n",
       "2     TRANSITO                  APOSITO DE HIDROFIBRA  / CINTA-18  \n",
       "3  ALMACENABLE           APOSITO DE ESPUMA POLIURETANO / SACRO-11  \n",
       "4  ALMACENABLE                        APOSITO C/ CARBON Y PLATA-6  "
      ]
     },
     "execution_count": 13,
     "metadata": {},
     "output_type": "execute_result"
    }
   ],
   "source": [
    "data.head()"
   ]
  },
  {
   "cell_type": "code",
   "execution_count": 20,
   "metadata": {},
   "outputs": [],
   "source": [
    "data = data[data['FECHAPEDIDO']<dt.datetime(year=2023,month=1,day=1)]"
   ]
  },
  {
   "cell_type": "code",
   "execution_count": 23,
   "metadata": {},
   "outputs": [
    {
     "data": {
      "text/plain": [
       "False"
      ]
     },
     "execution_count": 23,
     "metadata": {},
     "output_type": "execute_result"
    }
   ],
   "source": [
    "any(data['FECHAPEDIDO']==2023)"
   ]
  },
  {
   "cell_type": "code",
   "execution_count": 24,
   "metadata": {},
   "outputs": [],
   "source": [
    "data.to_csv('../data/consumo_no23.csv',index=False)"
   ]
  },
  {
   "cell_type": "code",
   "execution_count": 29,
   "metadata": {},
   "outputs": [
    {
     "data": {
      "application/vnd.jupyter.widget-view+json": {
       "model_id": "85ec4d4273c841478876b9a213ff02b7",
       "version_major": 2,
       "version_minor": 0
      },
      "text/plain": [
       "Summarize dataset:   0%|          | 0/5 [00:00<?, ?it/s]"
      ]
     },
     "metadata": {},
     "output_type": "display_data"
    },
    {
     "data": {
      "application/vnd.jupyter.widget-view+json": {
       "model_id": "e9c297b089944e38a0a32602d0dc7d70",
       "version_major": 2,
       "version_minor": 0
      },
      "text/plain": [
       "Generate report structure:   0%|          | 0/1 [00:00<?, ?it/s]"
      ]
     },
     "metadata": {},
     "output_type": "display_data"
    },
    {
     "data": {
      "application/vnd.jupyter.widget-view+json": {
       "model_id": "44b6ab6012454de98e1757a07f103f0a",
       "version_major": 2,
       "version_minor": 0
      },
      "text/plain": [
       "Render HTML:   0%|          | 0/1 [00:00<?, ?it/s]"
      ]
     },
     "metadata": {},
     "output_type": "display_data"
    },
    {
     "data": {
      "application/vnd.jupyter.widget-view+json": {
       "model_id": "323aa3c436564ac2902a0c2c90218064",
       "version_major": 2,
       "version_minor": 0
      },
      "text/plain": [
       "Export report to file:   0%|          | 0/1 [00:00<?, ?it/s]"
      ]
     },
     "metadata": {},
     "output_type": "display_data"
    }
   ],
   "source": [
    "ProfileReport(data, title='Pandas Profiling Report', explorative=True).to_file(\"../data/consumo_material_clean.html\")"
   ]
  }
 ],
 "metadata": {
  "kernelspec": {
   "display_name": "torch",
   "language": "python",
   "name": "python3"
  },
  "language_info": {
   "codemirror_mode": {
    "name": "ipython",
    "version": 3
   },
   "file_extension": ".py",
   "mimetype": "text/x-python",
   "name": "python",
   "nbconvert_exporter": "python",
   "pygments_lexer": "ipython3",
   "version": "3.8.16"
  }
 },
 "nbformat": 4,
 "nbformat_minor": 2
}
