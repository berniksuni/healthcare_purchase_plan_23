{
 "cells": [
  {
   "cell_type": "code",
   "execution_count": 25,
   "metadata": {},
   "outputs": [
    {
     "ename": "PydanticImportError",
     "evalue": "`BaseSettings` has been moved to the `pydantic-settings` package. See https://docs.pydantic.dev/2.4/migration/#basesettings-has-moved-to-pydantic-settings for more details.\n\nFor further information visit https://errors.pydantic.dev/2.4/u/import-error",
     "output_type": "error",
     "traceback": [
      "\u001b[1;31m---------------------------------------------------------------------------\u001b[0m",
      "\u001b[1;31mPydanticImportError\u001b[0m                       Traceback (most recent call last)",
      "\u001b[1;32mc:\\Users\\berna\\Desktop\\compes\\DATATHON UPC FME 2023\\healthcare_challenge\\data_exploring\\initial_exploring.ipynb Cell 1\u001b[0m line \u001b[0;36m3\n\u001b[0;32m      <a href='vscode-notebook-cell:/c%3A/Users/berna/Desktop/compes/DATATHON%20UPC%20FME%202023/healthcare_challenge/data_exploring/initial_exploring.ipynb#W0sZmlsZQ%3D%3D?line=0'>1</a>\u001b[0m \u001b[39mimport\u001b[39;00m \u001b[39mpandas\u001b[39;00m \u001b[39mas\u001b[39;00m \u001b[39mpd\u001b[39;00m\n\u001b[0;32m      <a href='vscode-notebook-cell:/c%3A/Users/berna/Desktop/compes/DATATHON%20UPC%20FME%202023/healthcare_challenge/data_exploring/initial_exploring.ipynb#W0sZmlsZQ%3D%3D?line=1'>2</a>\u001b[0m \u001b[39m# pandas profiling\u001b[39;00m\n\u001b[1;32m----> <a href='vscode-notebook-cell:/c%3A/Users/berna/Desktop/compes/DATATHON%20UPC%20FME%202023/healthcare_challenge/data_exploring/initial_exploring.ipynb#W0sZmlsZQ%3D%3D?line=2'>3</a>\u001b[0m \u001b[39mfrom\u001b[39;00m \u001b[39mpandas_profiling\u001b[39;00m \u001b[39mimport\u001b[39;00m ProfileReport\n\u001b[0;32m      <a href='vscode-notebook-cell:/c%3A/Users/berna/Desktop/compes/DATATHON%20UPC%20FME%202023/healthcare_challenge/data_exploring/initial_exploring.ipynb#W0sZmlsZQ%3D%3D?line=3'>4</a>\u001b[0m \u001b[39mimport\u001b[39;00m \u001b[39mdatetime\u001b[39;00m \u001b[39mas\u001b[39;00m \u001b[39mdt\u001b[39;00m\n",
      "File \u001b[1;32mc:\\Users\\berna\\anaconda3\\envs\\torch\\lib\\site-packages\\pandas_profiling\\__init__.py:8\u001b[0m\n\u001b[0;32m      1\u001b[0m \u001b[39m\"\"\"Main module of pandas-profiling.\u001b[39;00m\n\u001b[0;32m      2\u001b[0m \n\u001b[0;32m      3\u001b[0m \u001b[39m.. include:: ../../README.md\u001b[39;00m\n\u001b[0;32m      4\u001b[0m \u001b[39m\"\"\"\u001b[39;00m\n\u001b[0;32m      6\u001b[0m \u001b[39mfrom\u001b[39;00m \u001b[39mwarnings\u001b[39;00m \u001b[39mimport\u001b[39;00m warn\n\u001b[1;32m----> 8\u001b[0m \u001b[39mfrom\u001b[39;00m \u001b[39mpandas_profiling\u001b[39;00m\u001b[39m.\u001b[39;00m\u001b[39mcompare_reports\u001b[39;00m \u001b[39mimport\u001b[39;00m compare\n\u001b[0;32m      9\u001b[0m \u001b[39mfrom\u001b[39;00m \u001b[39mpandas_profiling\u001b[39;00m\u001b[39m.\u001b[39;00m\u001b[39mcontroller\u001b[39;00m \u001b[39mimport\u001b[39;00m pandas_decorator\n\u001b[0;32m     10\u001b[0m \u001b[39mfrom\u001b[39;00m \u001b[39mpandas_profiling\u001b[39;00m\u001b[39m.\u001b[39;00m\u001b[39mprofile_report\u001b[39;00m \u001b[39mimport\u001b[39;00m ProfileReport\n",
      "File \u001b[1;32mc:\\Users\\berna\\anaconda3\\envs\\torch\\lib\\site-packages\\pandas_profiling\\compare_reports.py:6\u001b[0m\n\u001b[0;32m      2\u001b[0m \u001b[39mfrom\u001b[39;00m \u001b[39mtyping\u001b[39;00m \u001b[39mimport\u001b[39;00m Any, List, Optional, Tuple, Union\n\u001b[0;32m      4\u001b[0m \u001b[39mimport\u001b[39;00m \u001b[39mpandas\u001b[39;00m \u001b[39mas\u001b[39;00m \u001b[39mpd\u001b[39;00m\n\u001b[1;32m----> 6\u001b[0m \u001b[39mfrom\u001b[39;00m \u001b[39mpandas_profiling\u001b[39;00m\u001b[39m.\u001b[39;00m\u001b[39mconfig\u001b[39;00m \u001b[39mimport\u001b[39;00m Correlation, Settings\n\u001b[0;32m      7\u001b[0m \u001b[39mfrom\u001b[39;00m \u001b[39mpandas_profiling\u001b[39;00m\u001b[39m.\u001b[39;00m\u001b[39mmodel\u001b[39;00m\u001b[39m.\u001b[39;00m\u001b[39malerts\u001b[39;00m \u001b[39mimport\u001b[39;00m Alert\n\u001b[0;32m      8\u001b[0m \u001b[39mfrom\u001b[39;00m \u001b[39mpandas_profiling\u001b[39;00m\u001b[39m.\u001b[39;00m\u001b[39mprofile_report\u001b[39;00m \u001b[39mimport\u001b[39;00m ProfileReport\n",
      "File \u001b[1;32mc:\\Users\\berna\\anaconda3\\envs\\torch\\lib\\site-packages\\pandas_profiling\\config.py:7\u001b[0m\n\u001b[0;32m      4\u001b[0m \u001b[39mfrom\u001b[39;00m \u001b[39mtyping\u001b[39;00m \u001b[39mimport\u001b[39;00m Any, Dict, List, Optional, Tuple, Union\n\u001b[0;32m      6\u001b[0m \u001b[39mimport\u001b[39;00m \u001b[39myaml\u001b[39;00m\n\u001b[1;32m----> 7\u001b[0m \u001b[39mfrom\u001b[39;00m \u001b[39mpydantic\u001b[39;00m \u001b[39mimport\u001b[39;00m BaseModel, BaseSettings, Field, PrivateAttr\n\u001b[0;32m     10\u001b[0m \u001b[39mdef\u001b[39;00m \u001b[39m_merge_dictionaries\u001b[39m(dict1: \u001b[39mdict\u001b[39m, dict2: \u001b[39mdict\u001b[39m) \u001b[39m-\u001b[39m\u001b[39m>\u001b[39m \u001b[39mdict\u001b[39m:\n\u001b[0;32m     11\u001b[0m     \u001b[39m\"\"\"\u001b[39;00m\n\u001b[0;32m     12\u001b[0m \u001b[39m    Recursive merge dictionaries.\u001b[39;00m\n\u001b[0;32m     13\u001b[0m \n\u001b[1;32m   (...)\u001b[0m\n\u001b[0;32m     16\u001b[0m \u001b[39m    :return: Merged dictionary\u001b[39;00m\n\u001b[0;32m     17\u001b[0m \u001b[39m    \"\"\"\u001b[39;00m\n",
      "File \u001b[1;32mc:\\Users\\berna\\anaconda3\\envs\\torch\\lib\\site-packages\\pydantic\\__init__.py:218\u001b[0m, in \u001b[0;36m__getattr__\u001b[1;34m(attr_name)\u001b[0m\n\u001b[0;32m    216\u001b[0m dynamic_attr \u001b[39m=\u001b[39m _dynamic_imports\u001b[39m.\u001b[39mget(attr_name)\n\u001b[0;32m    217\u001b[0m \u001b[39mif\u001b[39;00m dynamic_attr \u001b[39mis\u001b[39;00m \u001b[39mNone\u001b[39;00m:\n\u001b[1;32m--> 218\u001b[0m     \u001b[39mreturn\u001b[39;00m _getattr_migration(attr_name)\n\u001b[0;32m    220\u001b[0m package, module_name \u001b[39m=\u001b[39m dynamic_attr\n\u001b[0;32m    222\u001b[0m \u001b[39mfrom\u001b[39;00m \u001b[39mimportlib\u001b[39;00m \u001b[39mimport\u001b[39;00m import_module\n",
      "File \u001b[1;32mc:\\Users\\berna\\anaconda3\\envs\\torch\\lib\\site-packages\\pydantic\\_migration.py:294\u001b[0m, in \u001b[0;36mgetattr_migration.<locals>.wrapper\u001b[1;34m(name)\u001b[0m\n\u001b[0;32m    292\u001b[0m     \u001b[39mreturn\u001b[39;00m import_string(REDIRECT_TO_V1[import_path])\n\u001b[0;32m    293\u001b[0m \u001b[39mif\u001b[39;00m import_path \u001b[39m==\u001b[39m \u001b[39m'\u001b[39m\u001b[39mpydantic:BaseSettings\u001b[39m\u001b[39m'\u001b[39m:\n\u001b[1;32m--> 294\u001b[0m     \u001b[39mraise\u001b[39;00m PydanticImportError(\n\u001b[0;32m    295\u001b[0m         \u001b[39m'\u001b[39m\u001b[39m`BaseSettings` has been moved to the `pydantic-settings` package. \u001b[39m\u001b[39m'\u001b[39m\n\u001b[0;32m    296\u001b[0m         \u001b[39mf\u001b[39m\u001b[39m'\u001b[39m\u001b[39mSee https://docs.pydantic.dev/\u001b[39m\u001b[39m{\u001b[39;00mversion_short()\u001b[39m}\u001b[39;00m\u001b[39m/migration/#basesettings-has-moved-to-pydantic-settings \u001b[39m\u001b[39m'\u001b[39m\n\u001b[0;32m    297\u001b[0m         \u001b[39m'\u001b[39m\u001b[39mfor more details.\u001b[39m\u001b[39m'\u001b[39m\n\u001b[0;32m    298\u001b[0m     )\n\u001b[0;32m    299\u001b[0m \u001b[39mif\u001b[39;00m import_path \u001b[39min\u001b[39;00m REMOVED_IN_V2:\n\u001b[0;32m    300\u001b[0m     \u001b[39mraise\u001b[39;00m PydanticImportError(\u001b[39mf\u001b[39m\u001b[39m'\u001b[39m\u001b[39m`\u001b[39m\u001b[39m{\u001b[39;00mimport_path\u001b[39m}\u001b[39;00m\u001b[39m` has been removed in V2.\u001b[39m\u001b[39m'\u001b[39m)\n",
      "\u001b[1;31mPydanticImportError\u001b[0m: `BaseSettings` has been moved to the `pydantic-settings` package. See https://docs.pydantic.dev/2.4/migration/#basesettings-has-moved-to-pydantic-settings for more details.\n\nFor further information visit https://errors.pydantic.dev/2.4/u/import-error"
     ]
    }
   ],
   "source": [
    "import pandas as pd\n",
    "# pandas profiling\n",
    "from pandas_profiling import ProfileReport\n",
    "import datetime as dt"
   ]
  },
  {
   "cell_type": "code",
   "execution_count": 16,
   "metadata": {},
   "outputs": [
    {
     "data": {
      "text/plain": [
       "CODIGO                               object\n",
       "FECHAPEDIDO                  datetime64[ns]\n",
       "NUMERO                               object\n",
       "REFERENCIA                           object\n",
       "CANTIDADCOMPRA                        int64\n",
       "UNIDADESCONSUMOCONTENIDAS             int64\n",
       "PRECIO                              float64\n",
       "IMPORTELINEA                        float64\n",
       "TIPOCOMPRA                           object\n",
       "ORIGEN                               object\n",
       "TGL                                  object\n",
       "PRODUCTO                             object\n",
       "dtype: object"
      ]
     },
     "execution_count": 16,
     "metadata": {},
     "output_type": "execute_result"
    }
   ],
   "source": [
    "# load data\n",
    "data = pd.read_excel('../data/consumo_material_clean.xlsx', converters={'FECHAPEDIDO':pd.to_datetime})\n",
    "data.dtypes\n"
   ]
  },
  {
   "cell_type": "code",
   "execution_count": 13,
   "metadata": {},
   "outputs": [
    {
     "data": {
      "text/html": [
       "<div>\n",
       "<style scoped>\n",
       "    .dataframe tbody tr th:only-of-type {\n",
       "        vertical-align: middle;\n",
       "    }\n",
       "\n",
       "    .dataframe tbody tr th {\n",
       "        vertical-align: top;\n",
       "    }\n",
       "\n",
       "    .dataframe thead th {\n",
       "        text-align: right;\n",
       "    }\n",
       "</style>\n",
       "<table border=\"1\" class=\"dataframe\">\n",
       "  <thead>\n",
       "    <tr style=\"text-align: right;\">\n",
       "      <th></th>\n",
       "      <th>CODIGO</th>\n",
       "      <th>FECHAPEDIDO</th>\n",
       "      <th>NUMERO</th>\n",
       "      <th>REFERENCIA</th>\n",
       "      <th>CANTIDADCOMPRA</th>\n",
       "      <th>UNIDADESCONSUMOCONTENIDAS</th>\n",
       "      <th>PRECIO</th>\n",
       "      <th>IMPORTELINEA</th>\n",
       "      <th>TIPOCOMPRA</th>\n",
       "      <th>ORIGEN</th>\n",
       "      <th>TGL</th>\n",
       "      <th>PRODUCTO</th>\n",
       "    </tr>\n",
       "  </thead>\n",
       "  <tbody>\n",
       "    <tr>\n",
       "      <th>0</th>\n",
       "      <td>E99808</td>\n",
       "      <td>2023-01-01</td>\n",
       "      <td>1595724/23</td>\n",
       "      <td>178567.1</td>\n",
       "      <td>60</td>\n",
       "      <td>10</td>\n",
       "      <td>62.590000</td>\n",
       "      <td>375.540000</td>\n",
       "      <td>Compra menor</td>\n",
       "      <td>1-2-60</td>\n",
       "      <td>TRANSITO</td>\n",
       "      <td>APOSITO DE FIBRAS DE POLIACRILATO C/PLATA-3</td>\n",
       "    </tr>\n",
       "    <tr>\n",
       "      <th>1</th>\n",
       "      <td>B41691</td>\n",
       "      <td>2016-01-02</td>\n",
       "      <td>72714/16</td>\n",
       "      <td>400403</td>\n",
       "      <td>40</td>\n",
       "      <td>10</td>\n",
       "      <td>102.803729</td>\n",
       "      <td>411.214916</td>\n",
       "      <td>Compra menor</td>\n",
       "      <td>0-10-1</td>\n",
       "      <td>ALMACENABLE</td>\n",
       "      <td>SOLUCION P/ LIMPIEZA Y DESCONTAMINACION DE HER...</td>\n",
       "    </tr>\n",
       "    <tr>\n",
       "      <th>2</th>\n",
       "      <td>E64543</td>\n",
       "      <td>2016-01-02</td>\n",
       "      <td>71961/16</td>\n",
       "      <td>403770</td>\n",
       "      <td>20</td>\n",
       "      <td>5</td>\n",
       "      <td>12.100000</td>\n",
       "      <td>48.400000</td>\n",
       "      <td>Compra menor</td>\n",
       "      <td>0-4-111</td>\n",
       "      <td>TRANSITO</td>\n",
       "      <td>APOSITO DE HIDROFIBRA  / CINTA-18</td>\n",
       "    </tr>\n",
       "    <tr>\n",
       "      <th>3</th>\n",
       "      <td>E65007</td>\n",
       "      <td>2016-01-02</td>\n",
       "      <td>72773/16</td>\n",
       "      <td>20415</td>\n",
       "      <td>100</td>\n",
       "      <td>50</td>\n",
       "      <td>215.325000</td>\n",
       "      <td>430.650000</td>\n",
       "      <td>Concurso</td>\n",
       "      <td>0-10-1</td>\n",
       "      <td>ALMACENABLE</td>\n",
       "      <td>APOSITO DE ESPUMA POLIURETANO / SACRO-11</td>\n",
       "    </tr>\n",
       "    <tr>\n",
       "      <th>4</th>\n",
       "      <td>E64911</td>\n",
       "      <td>2017-01-02</td>\n",
       "      <td>86159/17</td>\n",
       "      <td>20701</td>\n",
       "      <td>300</td>\n",
       "      <td>300</td>\n",
       "      <td>792.000000</td>\n",
       "      <td>792.000000</td>\n",
       "      <td>Concurso</td>\n",
       "      <td>0-6-1</td>\n",
       "      <td>ALMACENABLE</td>\n",
       "      <td>APOSITO C/ CARBON Y PLATA-6</td>\n",
       "    </tr>\n",
       "  </tbody>\n",
       "</table>\n",
       "</div>"
      ],
      "text/plain": [
       "   CODIGO FECHAPEDIDO      NUMERO REFERENCIA  CANTIDADCOMPRA  \\\n",
       "0  E99808  2023-01-01  1595724/23   178567.1              60   \n",
       "1  B41691  2016-01-02    72714/16     400403              40   \n",
       "2  E64543  2016-01-02    71961/16     403770              20   \n",
       "3  E65007  2016-01-02    72773/16      20415             100   \n",
       "4  E64911  2017-01-02    86159/17      20701             300   \n",
       "\n",
       "   UNIDADESCONSUMOCONTENIDAS      PRECIO  IMPORTELINEA    TIPOCOMPRA   ORIGEN  \\\n",
       "0                         10   62.590000    375.540000  Compra menor   1-2-60   \n",
       "1                         10  102.803729    411.214916  Compra menor   0-10-1   \n",
       "2                          5   12.100000     48.400000  Compra menor  0-4-111   \n",
       "3                         50  215.325000    430.650000      Concurso   0-10-1   \n",
       "4                        300  792.000000    792.000000      Concurso    0-6-1   \n",
       "\n",
       "           TGL                                           PRODUCTO  \n",
       "0     TRANSITO        APOSITO DE FIBRAS DE POLIACRILATO C/PLATA-3  \n",
       "1  ALMACENABLE  SOLUCION P/ LIMPIEZA Y DESCONTAMINACION DE HER...  \n",
       "2     TRANSITO                  APOSITO DE HIDROFIBRA  / CINTA-18  \n",
       "3  ALMACENABLE           APOSITO DE ESPUMA POLIURETANO / SACRO-11  \n",
       "4  ALMACENABLE                        APOSITO C/ CARBON Y PLATA-6  "
      ]
     },
     "execution_count": 13,
     "metadata": {},
     "output_type": "execute_result"
    }
   ],
   "source": [
    "data.head()"
   ]
  },
  {
   "cell_type": "code",
   "execution_count": 20,
   "metadata": {},
   "outputs": [],
   "source": [
    "data = data[data['FECHAPEDIDO']<dt.datetime(year=2023,month=1,day=1)]"
   ]
  },
  {
   "cell_type": "code",
   "execution_count": 23,
   "metadata": {},
   "outputs": [
    {
     "data": {
      "text/plain": [
       "False"
      ]
     },
     "execution_count": 23,
     "metadata": {},
     "output_type": "execute_result"
    }
   ],
   "source": [
    "any(data['FECHAPEDIDO']==2023)"
   ]
  },
  {
   "cell_type": "code",
   "execution_count": 24,
   "metadata": {},
   "outputs": [],
   "source": [
    "data.to_csv('../data/consumo_no23.csv',index=False)"
   ]
  }
 ],
 "metadata": {
  "kernelspec": {
   "display_name": "torch",
   "language": "python",
   "name": "python3"
  },
  "language_info": {
   "codemirror_mode": {
    "name": "ipython",
    "version": 3
   },
   "file_extension": ".py",
   "mimetype": "text/x-python",
   "name": "python",
   "nbconvert_exporter": "python",
   "pygments_lexer": "ipython3",
   "version": "3.8.16"
  }
 },
 "nbformat": 4,
 "nbformat_minor": 2
}
